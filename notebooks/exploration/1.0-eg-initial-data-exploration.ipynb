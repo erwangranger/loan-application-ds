{
 "cells": [
  {
   "cell_type": "markdown",
   "id": "b5e7fb15-d0ce-42ef-80ab-ad18a13a4442",
   "metadata": {},
   "source": [
    "\n",
    "[source](https://www.kaggle.com/ajaymanwani/loan-approval-prediction/notebook)\n",
    "\n",
    "[pickle example](https://www.kaggle.com/vikasukani/loan-eligibility-prediction-machine-learning)\n"
   ]
  },
  {
   "cell_type": "code",
   "execution_count": null,
   "id": "1fb5f3d6-9046-4aba-989e-c0797d06c225",
   "metadata": {},
   "outputs": [],
   "source": [
    "################### Importing Libraries ######################\n",
    "import pandas as pd\n",
    "\n",
    "train_df1 = pd.read_csv('../../data/raw/train.csv')\n",
    "train_df1.info()\n",
    "train_df1.head()"
   ]
  },
  {
   "cell_type": "code",
   "execution_count": null,
   "id": "17090fc0-ec58-419e-af3d-61052be342dc",
   "metadata": {},
   "outputs": [],
   "source": [
    "############ Count number of Categorical and Numerical Columns ######################\n",
    "train_df2 = train_df1.drop(columns=['Loan_ID']) ## Dropping Loan ID\n",
    "categorical_columns = ['Gender', 'Married', 'Dependents', 'Education', 'Self_Employed', 'Property_Area','Credit_History','Loan_Amount_Term']\n",
    "#categorical_columns = ['Gender', 'Married', 'Dependents', 'Education', 'Self_Employed', 'Property_Area','Loan_Amount_Term']\n",
    "print(categorical_columns)\n",
    "\n",
    "\n",
    "numerical_columns = ['ApplicantIncome', 'CoapplicantIncome', 'LoanAmount']\n",
    "print(numerical_columns)"
   ]
  },
  {
   "cell_type": "code",
   "execution_count": null,
   "id": "40a643da-627e-460f-bf16-954925b11b39",
   "metadata": {},
   "outputs": [],
   "source": [
    "### Data Visualization libraries\n",
    "import seaborn as sns\n",
    "import matplotlib.pyplot as plt\n",
    "\n",
    "\n",
    "fig,axes = plt.subplots(4,2,figsize=(12,15))\n",
    "for idx,cat_col in enumerate(categorical_columns):\n",
    "    row,col = idx//2,idx%2\n",
    "    sns.countplot(x=cat_col,data=train_df2,hue='Loan_Status',ax=axes[row,col])\n",
    "\n",
    "\n",
    "plt.subplots_adjust(hspace=1)"
   ]
  },
  {
   "cell_type": "code",
   "execution_count": null,
   "id": "97b25f23-98cb-45f1-8112-542c07396429",
   "metadata": {},
   "outputs": [],
   "source": [
    "fig,axes = plt.subplots(1,3,figsize=(17,5))\n",
    "for idx,cat_col in enumerate(numerical_columns):\n",
    "    sns.boxplot(y=cat_col,data=train_df2,x='Loan_Status',ax=axes[idx])\n",
    "\n",
    "print(train_df2[numerical_columns].describe())\n",
    "plt.subplots_adjust(hspace=1)"
   ]
  },
  {
   "cell_type": "code",
   "execution_count": null,
   "id": "0cd9f6cb-becc-4624-8837-366d6859a0b0",
   "metadata": {},
   "outputs": [],
   "source": [
    "#### Encoding categrical Features: ##########\n",
    "train_df2_encoded = pd.get_dummies(train_df2,drop_first=True)\n",
    "train_df2_encoded.head()"
   ]
  },
  {
   "cell_type": "code",
   "execution_count": null,
   "id": "a1f1acba-ef06-4e4c-b1a6-302bb6d410a2",
   "metadata": {},
   "outputs": [],
   "source": [
    "########## Split Features and Target Varible ############\n",
    "X = train_df2_encoded.drop(columns='Loan_Status_Y')\n",
    "y = train_df2_encoded['Loan_Status_Y']\n",
    "\n",
    "################# Splitting into Train -Test Data #######\n",
    "from sklearn.model_selection import train_test_split\n",
    "X_train,X_test,y_train,y_test = train_test_split(X,y,test_size=0.2,stratify =y,random_state =42)\n",
    "\n",
    "############### Handling/Imputing Missing values #############\n",
    "from sklearn.impute import SimpleImputer\n",
    "imp = SimpleImputer(strategy='mean')\n",
    "imp_train = imp.fit(X_train)\n",
    "X_train = imp_train.transform(X_train)\n",
    "X_test_imp = imp_train.transform(X_test)"
   ]
  },
  {
   "cell_type": "code",
   "execution_count": null,
   "id": "d020ab4a-1491-4cc0-b93c-3e7e2a7c38de",
   "metadata": {},
   "outputs": [],
   "source": [
    "from sklearn.tree import DecisionTreeClassifier\n",
    "from sklearn.model_selection import cross_val_score\n",
    "from sklearn.metrics import accuracy_score,f1_score\n",
    "\n",
    "\n",
    "tree_clf = DecisionTreeClassifier()\n",
    "tree_clf.fit(X_train,y_train)\n",
    "y_pred = tree_clf.predict(X_train)\n",
    "print(\"Training Data Set Accuracy: \", accuracy_score(y_train,y_pred))\n",
    "print(\"Training Data F1 Score \", f1_score(y_train,y_pred))\n",
    "\n",
    "print(\"Validation Mean F1 Score: \",cross_val_score(tree_clf,X_train,y_train,cv=5,scoring='f1_macro').mean())\n",
    "print(\"Validation Mean Accuracy: \",cross_val_score(tree_clf,X_train,y_train,cv=5,scoring='accuracy').mean())"
   ]
  },
  {
   "cell_type": "code",
   "execution_count": null,
   "id": "c207e95a-8f6a-4e9b-9c07-a3fb983084d9",
   "metadata": {},
   "outputs": [],
   "source": []
  }
 ],
 "metadata": {
  "kernelspec": {
   "display_name": "Python 3",
   "language": "python",
   "name": "python3"
  },
  "language_info": {
   "codemirror_mode": {
    "name": "ipython",
    "version": 3
   },
   "file_extension": ".py",
   "mimetype": "text/x-python",
   "name": "python",
   "nbconvert_exporter": "python",
   "pygments_lexer": "ipython3",
   "version": "3.8.6"
  }
 },
 "nbformat": 4,
 "nbformat_minor": 5
}
