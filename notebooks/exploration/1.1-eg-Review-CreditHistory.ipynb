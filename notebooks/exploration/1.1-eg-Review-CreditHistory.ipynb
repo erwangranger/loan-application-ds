{
 "cells": [
  {
   "cell_type": "code",
   "execution_count": null,
   "id": "bbe4eff0-6850-4bbd-88c9-686c2911f01d",
   "metadata": {},
   "outputs": [],
   "source": [
    "################### Importing Libraries ######################\n",
    "import pandas as pd"
   ]
  },
  {
   "cell_type": "code",
   "execution_count": null,
   "id": "9c7f2dd4-fd04-4b86-a8b9-cbddcec038d5",
   "metadata": {},
   "outputs": [],
   "source": [
    "csv_data_file_url=\"https://gist.githubusercontent.com/erwangranger/c1534647ecd6efc6188a92d69657f3bc/raw/dcdfb27ef1c23c37cde56c2f09f19023d0809e12/loans.csv\"\n",
    "raw_loans_data = pd.read_csv(csv_data_file_url)\n"
   ]
  },
  {
   "cell_type": "code",
   "execution_count": null,
   "id": "9d705adf-81f1-4a9c-8577-cc12f40fdaf3",
   "metadata": {},
   "outputs": [],
   "source": [
    "raw_loans_data.head(10)"
   ]
  },
  {
   "cell_type": "code",
   "execution_count": null,
   "id": "49047779-8e95-4c44-b77e-57d4f078ea72",
   "metadata": {},
   "outputs": [],
   "source": [
    "trimmed_loans_data = raw_loans_data[['Loan_ID','LoanAmount','Credit_History','Loan_Status']]"
   ]
  },
  {
   "cell_type": "code",
   "execution_count": null,
   "id": "16da4792-c946-479d-8288-91e8d7b2225b",
   "metadata": {},
   "outputs": [],
   "source": [
    "trimmed_loans_data.head(10)"
   ]
  },
  {
   "cell_type": "code",
   "execution_count": null,
   "id": "73244933-4b78-4a43-916b-2e6783caead1",
   "metadata": {},
   "outputs": [],
   "source": []
  }
 ],
 "metadata": {
  "kernelspec": {
   "display_name": "Python 3",
   "language": "python",
   "name": "python3"
  },
  "language_info": {
   "codemirror_mode": {
    "name": "ipython",
    "version": 3
   },
   "file_extension": ".py",
   "mimetype": "text/x-python",
   "name": "python",
   "nbconvert_exporter": "python",
   "pygments_lexer": "ipython3",
   "version": "3.8.6"
  }
 },
 "nbformat": 4,
 "nbformat_minor": 5
}
