{
 "cells": [
  {
   "cell_type": "code",
   "execution_count": null,
   "id": "dfa4b9a6-591c-44d4-8896-2e664b2f5d48",
   "metadata": {},
   "outputs": [],
   "source": [
    "# OPTIONAL: Load the \"autoreload\" extension so that code can change\n",
    "%load_ext autoreload\n",
    "\n",
    "# OPTIONAL: always reload modules so that as you change code in src, it gets loaded\n",
    "%autoreload 2\n",
    "\n",
    "from src.data import get_data"
   ]
  },
  {
   "cell_type": "code",
   "execution_count": null,
   "id": "46e5dbc4-4a41-4eaa-96dd-2a6fde58be88",
   "metadata": {},
   "outputs": [],
   "source": [
    "csv_data_file_url=\"https://gist.githubusercontent.com/erwangranger/c1534647ecd6efc6188a92d69657f3bc/raw/dcdfb27ef1c23c37cde56c2f09f19023d0809e12/loans.csv\"\n",
    "raw_loans_data = pd.read_csv(csv_data_file_url)\n",
    "trimmed_loans_data = raw_loans_data[['Loan_ID','LoanAmount','Credit_History','Loan_Status']]"
   ]
  },
  {
   "cell_type": "code",
   "execution_count": null,
   "id": "d6cd4762-85d4-42ec-bb8d-2998e0dcd0a4",
   "metadata": {},
   "outputs": [],
   "source": [
    "trimmed_loans_data.describe()"
   ]
  },
  {
   "cell_type": "code",
   "execution_count": null,
   "id": "8e111606-ea08-4a66-92d4-189798b41e7d",
   "metadata": {},
   "outputs": [],
   "source": []
  },
  {
   "cell_type": "code",
   "execution_count": null,
   "id": "b000ff62-a7da-4143-ab08-83653b3090fe",
   "metadata": {},
   "outputs": [],
   "source": []
  }
 ],
 "metadata": {
  "kernelspec": {
   "display_name": "Python 3",
   "language": "python",
   "name": "python3"
  },
  "language_info": {
   "codemirror_mode": {
    "name": "ipython",
    "version": 3
   },
   "file_extension": ".py",
   "mimetype": "text/x-python",
   "name": "python",
   "nbconvert_exporter": "python",
   "pygments_lexer": "ipython3",
   "version": "3.8.6"
  }
 },
 "nbformat": 4,
 "nbformat_minor": 5
}
